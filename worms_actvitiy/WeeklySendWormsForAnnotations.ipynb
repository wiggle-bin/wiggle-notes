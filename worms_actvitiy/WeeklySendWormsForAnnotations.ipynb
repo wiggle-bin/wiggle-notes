{
 "cells": [
  {
   "cell_type": "code",
   "execution_count": 3,
   "metadata": {},
   "outputs": [],
   "source": [
    "import zipfile\n",
    "import os\n",
    "import zipfile\n",
    "from inference import get_model\n",
    "from PIL import Image\n",
    "import roboflow\n",
    "import supervision as sv\n",
    "import numpy as np\n",
    "import cv2\n",
    "import json\n",
    "from dotenv import load_dotenv\n"
   ]
  },
  {
   "cell_type": "code",
   "execution_count": 5,
   "metadata": {},
   "outputs": [
    {
     "name": "stdout",
     "output_type": "stream",
     "text": [
      "wigglebin\n"
     ]
    }
   ],
   "source": [
    "load_dotenv()\n",
    "api_key = os.getenv('ROBOFLOW_API_KEY')\n",
    "project_name = os.getenv('ROBOFLOW_PROJECT_NAME')\n",
    "print(project_name)"
   ]
  },
  {
   "cell_type": "code",
   "execution_count": 6,
   "metadata": {},
   "outputs": [
    {
     "name": "stderr",
     "output_type": "stream",
     "text": [
      "Specified provider 'CUDAExecutionProvider' is not in available provider names.Available providers: 'CPUExecutionProvider'\n",
      "Specified provider 'OpenVINOExecutionProvider' is not in available provider names.Available providers: 'CPUExecutionProvider'\n"
     ]
    }
   ],
   "source": [
    "model = get_model(\"wigglebin/1\")"
   ]
  },
  {
   "cell_type": "code",
   "execution_count": 7,
   "metadata": {},
   "outputs": [
    {
     "name": "stdout",
     "output_type": "stream",
     "text": [
      "['fly', 'fly-larva', 'worm']\n"
     ]
    }
   ],
   "source": [
    "print(model.class_names)"
   ]
  },
  {
   "cell_type": "code",
   "execution_count": 8,
   "metadata": {},
   "outputs": [
    {
     "name": "stdout",
     "output_type": "stream",
     "text": [
      "loading Roboflow workspace...\n",
      "loading Roboflow project...\n"
     ]
    }
   ],
   "source": [
    "# Authenticate with Roboflow\n",
    "rf = roboflow.Roboflow(api_key=api_key)\n",
    "project = rf.workspace().project(project_name)\n",
    "\n",
    "def send_to_roboflow(annotation_path, image_path, batch_name):\n",
    "    # Upload image and annotations to Roboflow\n",
    "    project.upload(image_path, annotation_path=annotation_path, batch_name=batch_name)"
   ]
  },
  {
   "cell_type": "code",
   "execution_count": 9,
   "metadata": {},
   "outputs": [],
   "source": [
    "def extract_zip(zip_path, extract_to):\n",
    "    with zipfile.ZipFile(zip_path, 'r') as zip_ref:\n",
    "        zip_ref.extractall(extract_to)\n",
    "\n",
    "def analyze_image(image):\n",
    "    results = model.infer(image)[0]\n",
    "    return results\n",
    "\n",
    "def get_model_results(image_path):\n",
    "    results = model.infer(image=image_path)[0]\n",
    "\n",
    "    return results\n",
    "\n",
    "def draw_boxes(results, image_path, output_image_path):\n",
    "    image = Image.open(image_path)\n",
    "    image_np = np.array(image)  # Convert PIL image to NumPy array\n",
    "    image_bgr = cv2.cvtColor(image_np, cv2.COLOR_RGB2BGR)  # Convert RGB to BGR\n",
    "\n",
    "    # Convert the inference results to Supervisely format\n",
    "    detections = sv.Detections.from_inference(results)\n",
    "\n",
    "    # Create supervision annotators\n",
    "    bounding_box_annotator = sv.BoxAnnotator()  # Set the color for bounding boxes\n",
    "    label_annotator = sv.LabelAnnotator()  # Set the color for labels\n",
    "\n",
    "    labels = [\n",
    "        f\"{model.class_names[class_id]} {confidence:.2f}\"\n",
    "        for class_id, confidence in zip(detections.class_id, detections.confidence)\n",
    "    ]\n",
    "\n",
    "    # Annotate the image with our inference results\n",
    "    annotated_image_rgb = bounding_box_annotator.annotate(scene=image_bgr, detections=detections)\n",
    "    annotated_image_bgr = label_annotator.annotate(scene=annotated_image_rgb, detections=detections, labels=labels)\n",
    "\n",
    "        # Convert the annotated image back to RGB format\n",
    "    annotated_image_rgb = cv2.cvtColor(annotated_image_bgr, cv2.COLOR_BGR2RGB)\n",
    "    annotated_image_pil = Image.fromarray(annotated_image_rgb)  # Convert NumPy array back to PIL image\n",
    "\n",
    "    # Save the annotated image using PIL\n",
    "    annotated_image_pil.save(output_image_path)\n",
    "\n",
    "def format_annotations(predictions, image_file_name):\n",
    "    data = []\n",
    "    annotations = []\n",
    "    for prediction in predictions:\n",
    "        annotation = {\n",
    "            \"label\": prediction.class_name,\n",
    "            \"coordinates\": {\n",
    "                \"x\": prediction.x,\n",
    "                \"y\": prediction.y,\n",
    "                \"width\": prediction.width,\n",
    "                \"height\": prediction.height\n",
    "            }\n",
    "        }\n",
    "        annotations.append(annotation)\n",
    "\n",
    "        data.append({\n",
    "            \"image\": image_file_name,\n",
    "            \"annotations\": annotations\n",
    "        })\n",
    "    return data\n",
    "\n",
    "def save_annotations(predictions, image_path, annotations_dir):\n",
    "    image_file_name = os.path.basename(image_path)\n",
    "    annotations = format_annotations(predictions, image_file_name)\n",
    "\n",
    "    annotation_file_name = f\"{os.path.splitext(image_file_name)[0]}.json\"\n",
    "    annotation_path = os.path.join(annotations_dir, annotation_file_name)\n",
    "    with open(annotation_path, 'w') as f:\n",
    "        json.dump(annotations, f)\n",
    "    return annotation_path"
   ]
  },
  {
   "cell_type": "code",
   "execution_count": 25,
   "metadata": {},
   "outputs": [],
   "source": [
    "week = '2024-33'\n",
    "zip_path = f'downloads/weekly/{week}.zip'\n",
    "extraction_dir = f'extracted/weekly/{week}'\n",
    "predictions_dir = f'predictions/weekly/{week}'\n",
    "annotations_dir = f'annotations/weekly/{week}'\n",
    "diff_dir = f'diff/weekly/{week}'\n",
    "\n",
    "os.makedirs(predictions_dir, exist_ok=True)\n",
    "os.makedirs(annotations_dir, exist_ok=True)\n",
    "os.makedirs(diff_dir, exist_ok=True)"
   ]
  },
  {
   "cell_type": "code",
   "execution_count": 23,
   "metadata": {},
   "outputs": [],
   "source": [
    "extract_zip(zip_path, extraction_dir)"
   ]
  },
  {
   "cell_type": "markdown",
   "metadata": {},
   "source": [
    "## Draw predictions on images and send to Roboflow"
   ]
  },
  {
   "cell_type": "code",
   "execution_count": 33,
   "metadata": {},
   "outputs": [],
   "source": [
    "for root, dirs, files in os.walk(extraction_dir):\n",
    "    for file in files:\n",
    "        if file.lower().endswith(('.png', '.jpg', '.jpeg')):\n",
    "            image_path = os.path.join(root, file)\n",
    "            results = get_model_results(image_path)\n",
    "            draw_boxes(\n",
    "                results,\n",
    "                image_path, \n",
    "                os.path.join(predictions_dir, file)\n",
    "            )\n",
    "            annotation_path = save_annotations(results.predictions, image_path, annotations_dir)\n",
    "            # send_to_roboflow(annotation_path, image_path, week)\n",
    "            "
   ]
  }
 ],
 "metadata": {
  "kernelspec": {
   "display_name": ".venv",
   "language": "python",
   "name": "python3"
  },
  "language_info": {
   "codemirror_mode": {
    "name": "ipython",
    "version": 3
   },
   "file_extension": ".py",
   "mimetype": "text/x-python",
   "name": "python",
   "nbconvert_exporter": "python",
   "pygments_lexer": "ipython3",
   "version": "3.11.6"
  }
 },
 "nbformat": 4,
 "nbformat_minor": 2
}
