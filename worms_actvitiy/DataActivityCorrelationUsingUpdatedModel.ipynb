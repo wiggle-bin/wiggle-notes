{
 "cells": [
  {
   "cell_type": "code",
   "execution_count": null,
   "metadata": {},
   "outputs": [],
   "source": [
    "# take two weeks, 1 with worms, 1 without\n",
    "# check if there is some nocturnal rhythm (worms are more active at night)\n",
    "# run model for each picture to count worms\n",
    "# output images with contours and make sure it is counting the worms correctly\n",
    "# compare the two weeks\n",
    "# take in sensor data like temperature, humidity, soil humidity, etc\n",
    "# check if there is a correlation between the sensor data and the number of worms\n",
    "# run the above for multiple weeks"
   ]
  },
  {
   "cell_type": "code",
   "execution_count": 49,
   "metadata": {},
   "outputs": [],
   "source": [
    "import os\n",
    "import zipfile\n",
    "from tempfile import TemporaryDirectory\n",
    "from inference import get_model\n",
    "from PIL import Image\n",
    "import roboflow\n",
    "import pandas as pd\n",
    "import supervision as sv\n",
    "from inference import get_model\n",
    "from PIL.ImageFile import ImageFile\n",
    "import cv2"
   ]
  },
  {
   "cell_type": "code",
   "execution_count": 4,
   "metadata": {},
   "outputs": [],
   "source": [
    "model = get_model(\"wigglebin/2\")"
   ]
  },
  {
   "cell_type": "code",
   "execution_count": 47,
   "metadata": {},
   "outputs": [],
   "source": [
    "def analyze_image(image):\n",
    "    results = model.infer(image)[0]\n",
    "    return results\n",
    "\n",
    "def draw_boxes(results, image_path, output_image_path):\n",
    "    image = Image.open(image_path)\n",
    "    image_np = np.array(image)  # Convert PIL image to NumPy array\n",
    "    image_bgr = cv2.cvtColor(image_np, cv2.COLOR_RGB2BGR)  # Convert RGB to BGR\n",
    "\n",
    "    # Convert the inference results to Supervisely format\n",
    "    detections = sv.Detections.from_inference(results)\n",
    "\n",
    "    # Create supervision annotators\n",
    "    bounding_box_annotator = sv.BoxAnnotator()  # Set the color for bounding boxes\n",
    "    label_annotator = sv.LabelAnnotator()  # Set the color for labels\n",
    "\n",
    "    labels = [\n",
    "        f\"{model.class_names[class_id]} {confidence:.2f}\"\n",
    "        for class_id, confidence in zip(detections.class_id, detections.confidence)\n",
    "    ]\n",
    "\n",
    "    # Annotate the image with our inference results\n",
    "    annotated_image_rgb = bounding_box_annotator.annotate(scene=image_bgr, detections=detections)\n",
    "    annotated_image_bgr = label_annotator.annotate(scene=annotated_image_rgb, detections=detections, labels=labels)\n",
    "\n",
    "        # Convert the annotated image back to RGB format\n",
    "    annotated_image_rgb = cv2.cvtColor(annotated_image_bgr, cv2.COLOR_BGR2RGB)\n",
    "    annotated_image_pil = Image.fromarray(annotated_image_rgb)  # Convert NumPy array back to PIL image\n",
    "\n",
    "    # Save the annotated image using PIL\n",
    "    annotated_image_pil.save(output_image_path)"
   ]
  },
  {
   "cell_type": "code",
   "execution_count": null,
   "metadata": {},
   "outputs": [],
   "source": []
  },
  {
   "cell_type": "code",
   "execution_count": 111,
   "metadata": {},
   "outputs": [],
   "source": [
    "import numpy as np\n",
    "\n",
    "# Define the folders containing the images\n",
    "image_folders = [\n",
    "    'downloads/daily/2024-09-02', 'downloads/daily/2024-09-03', 'downloads/daily/2024-09-04', 'downloads/daily/2024-09-05', 'downloads/daily/2024-09-06', 'downloads/daily/2024-09-07', 'downloads/daily/2024-09-08',  # week 36\n",
    "    'downloads/daily/2024-09-09', 'downloads/daily/2024-09-10', 'downloads/daily/2024-09-11', 'downloads/daily/2024-09-12', 'downloads/daily/2024-09-13', 'downloads/daily/2024-09-14', 'downloads/daily/2024-09-15',  # week 37\n",
    "    'downloads/daily/2024-09-16', 'downloads/daily/2024-09-17', 'downloads/daily/2024-09-18', 'downloads/daily/2024-09-19', 'downloads/daily/2024-09-20', 'downloads/daily/2024-09-21', 'downloads/daily/2024-09-22',  # week 38\n",
    "    'downloads/daily/2024-09-23', 'downloads/daily/2024-09-23', 'downloads/daily/2024-09-25', 'downloads/daily/2024-09-26', 'downloads/daily/2024-09-27', 'downloads/daily/2024-09-28', 'downloads/daily/2024-09-29',  # week 39\n",
    "]\n",
    "\n",
    "all_results = []\n",
    "\n",
    "# Loop over each folder\n",
    "for folder in image_folders:\n",
    "    # Loop over each image in the folder\n",
    "    for image_name in os.listdir(folder):\n",
    "        image_path = os.path.join(folder, image_name)\n",
    "        \n",
    "        # Open the image\n",
    "        with Image.open(image_path) as img:\n",
    "            # Analyze the image\n",
    "            results = analyze_image(img)\n",
    "            num_items_detected = len(results.predictions)\n",
    "\n",
    "            # Append the image name and number of worms detected to the list\n",
    "            all_results.append((image_name, image_path, results))\n"
   ]
  },
  {
   "cell_type": "code",
   "execution_count": 112,
   "metadata": {},
   "outputs": [],
   "source": [
    "# show bounding boxes on the image\n",
    "for (image_name, image_path, results) in all_results:\n",
    "    draw_boxes(results, image_path, f\"predictions/output/{image_name}\")"
   ]
  },
  {
   "cell_type": "code",
   "execution_count": 114,
   "metadata": {},
   "outputs": [
    {
     "data": {
      "text/html": [
       "<div>\n",
       "<style scoped>\n",
       "    .dataframe tbody tr th:only-of-type {\n",
       "        vertical-align: middle;\n",
       "    }\n",
       "\n",
       "    .dataframe tbody tr th {\n",
       "        vertical-align: top;\n",
       "    }\n",
       "\n",
       "    .dataframe thead th {\n",
       "        text-align: right;\n",
       "    }\n",
       "</style>\n",
       "<table border=\"1\" class=\"dataframe\">\n",
       "  <thead>\n",
       "    <tr style=\"text-align: right;\">\n",
       "      <th></th>\n",
       "      <th>image_name</th>\n",
       "      <th>num_worms</th>\n",
       "      <th>date_time</th>\n",
       "      <th>week_number</th>\n",
       "    </tr>\n",
       "  </thead>\n",
       "  <tbody>\n",
       "    <tr>\n",
       "      <th>102</th>\n",
       "      <td>2024-09-02-00-00.jpg</td>\n",
       "      <td>3</td>\n",
       "      <td>2024-09-02 00:00:00</td>\n",
       "      <td>36</td>\n",
       "    </tr>\n",
       "    <tr>\n",
       "      <th>75</th>\n",
       "      <td>2024-09-02-00-10.jpg</td>\n",
       "      <td>2</td>\n",
       "      <td>2024-09-02 00:10:00</td>\n",
       "      <td>36</td>\n",
       "    </tr>\n",
       "    <tr>\n",
       "      <th>55</th>\n",
       "      <td>2024-09-02-00-20.jpg</td>\n",
       "      <td>2</td>\n",
       "      <td>2024-09-02 00:20:00</td>\n",
       "      <td>36</td>\n",
       "    </tr>\n",
       "    <tr>\n",
       "      <th>47</th>\n",
       "      <td>2024-09-02-00-30.jpg</td>\n",
       "      <td>1</td>\n",
       "      <td>2024-09-02 00:30:00</td>\n",
       "      <td>36</td>\n",
       "    </tr>\n",
       "    <tr>\n",
       "      <th>18</th>\n",
       "      <td>2024-09-02-00-40.jpg</td>\n",
       "      <td>2</td>\n",
       "      <td>2024-09-02 00:40:00</td>\n",
       "      <td>36</td>\n",
       "    </tr>\n",
       "    <tr>\n",
       "      <th>...</th>\n",
       "      <td>...</td>\n",
       "      <td>...</td>\n",
       "      <td>...</td>\n",
       "      <td>...</td>\n",
       "    </tr>\n",
       "    <tr>\n",
       "      <th>3918</th>\n",
       "      <td>2024-09-29-23-10.jpg</td>\n",
       "      <td>1</td>\n",
       "      <td>2024-09-29 23:10:00</td>\n",
       "      <td>39</td>\n",
       "    </tr>\n",
       "    <tr>\n",
       "      <th>4008</th>\n",
       "      <td>2024-09-29-23-20.jpg</td>\n",
       "      <td>1</td>\n",
       "      <td>2024-09-29 23:20:00</td>\n",
       "      <td>39</td>\n",
       "    </tr>\n",
       "    <tr>\n",
       "      <th>4023</th>\n",
       "      <td>2024-09-29-23-30.jpg</td>\n",
       "      <td>0</td>\n",
       "      <td>2024-09-29 23:30:00</td>\n",
       "      <td>39</td>\n",
       "    </tr>\n",
       "    <tr>\n",
       "      <th>3970</th>\n",
       "      <td>2024-09-29-23-40.jpg</td>\n",
       "      <td>0</td>\n",
       "      <td>2024-09-29 23:40:00</td>\n",
       "      <td>39</td>\n",
       "    </tr>\n",
       "    <tr>\n",
       "      <th>3989</th>\n",
       "      <td>2024-09-29-23-50.jpg</td>\n",
       "      <td>0</td>\n",
       "      <td>2024-09-29 23:50:00</td>\n",
       "      <td>39</td>\n",
       "    </tr>\n",
       "  </tbody>\n",
       "</table>\n",
       "<p>4032 rows × 4 columns</p>\n",
       "</div>"
      ],
      "text/plain": [
       "                image_name  num_worms           date_time  week_number\n",
       "102   2024-09-02-00-00.jpg          3 2024-09-02 00:00:00           36\n",
       "75    2024-09-02-00-10.jpg          2 2024-09-02 00:10:00           36\n",
       "55    2024-09-02-00-20.jpg          2 2024-09-02 00:20:00           36\n",
       "47    2024-09-02-00-30.jpg          1 2024-09-02 00:30:00           36\n",
       "18    2024-09-02-00-40.jpg          2 2024-09-02 00:40:00           36\n",
       "...                    ...        ...                 ...          ...\n",
       "3918  2024-09-29-23-10.jpg          1 2024-09-29 23:10:00           39\n",
       "4008  2024-09-29-23-20.jpg          1 2024-09-29 23:20:00           39\n",
       "4023  2024-09-29-23-30.jpg          0 2024-09-29 23:30:00           39\n",
       "3970  2024-09-29-23-40.jpg          0 2024-09-29 23:40:00           39\n",
       "3989  2024-09-29-23-50.jpg          0 2024-09-29 23:50:00           39\n",
       "\n",
       "[4032 rows x 4 columns]"
      ]
     },
     "execution_count": 114,
     "metadata": {},
     "output_type": "execute_result"
    }
   ],
   "source": [
    "data = []\n",
    "\n",
    "# Loop over each image and its detection results\n",
    "for (image_name, image_path, results) in all_results:\n",
    "    worms_detected = [pred for pred in results.predictions if pred.class_name == 'worm']\n",
    "    num_worms = len(worms_detected)\n",
    "    \n",
    "    # Extract date and time from image_name\n",
    "    date_str = image_name.split('.')[0]\n",
    "    date_time = pd.to_datetime(date_str, format='%Y-%m-%d-%H-%M')\n",
    "    \n",
    "    # Extract week number\n",
    "    week_number = date_time.isocalendar().week\n",
    "    \n",
    "    data.append((image_name, num_worms, date_time, week_number))\n",
    "\n",
    "# Create a DataFrame from the data\n",
    "worms_detected_count = pd.DataFrame(data, columns=['image_name', 'num_worms', 'date_time', 'week_number'])\n",
    "\n",
    "worms_detected_count = worms_detected_count.sort_values(by='date_time')\n",
    "worms_detected_count"
   ]
  },
  {
   "cell_type": "code",
   "execution_count": 119,
   "metadata": {},
   "outputs": [],
   "source": [
    "worms_detected_count.to_csv('./csv/worms_detected_count.csv', index=False)"
   ]
  },
  {
   "cell_type": "code",
   "execution_count": 115,
   "metadata": {},
   "outputs": [
    {
     "data": {
      "image/png": "[encoded data removed]",
      "text/plain": [
       "<Figure size 640x480 with 1 Axes>"
      ]
     },
     "metadata": {},
     "output_type": "display_data"
    }
   ],
   "source": [
    "import matplotlib.pyplot as plt\n",
    "\n",
    "worms_detected_count.plot(x='date_time', y='num_worms', kind='line', title='Number of worms detected over time')\n",
    "plt.show()"
   ]
  },
  {
   "cell_type": "markdown",
   "metadata": {},
   "source": [
    "## Nocturnal rhythm\n",
    "\n",
    "Check if there is some nocturnal rhythm (worms are more active at night)"
   ]
  },
  {
   "cell_type": "code",
   "execution_count": 118,
   "metadata": {},
   "outputs": [],
   "source": [
    "# TODO: Take out feeding days\n",
    "# TODO: Take data from other weeks\n",
    "# TODO: Check if it is a nocturnal rhythm of moisture related"
   ]
  },
  {
   "cell_type": "code",
   "execution_count": 116,
   "metadata": {},
   "outputs": [
    {
     "data": {
      "text/html": [
       "<div>\n",
       "<style scoped>\n",
       "    .dataframe tbody tr th:only-of-type {\n",
       "        vertical-align: middle;\n",
       "    }\n",
       "\n",
       "    .dataframe tbody tr th {\n",
       "        vertical-align: top;\n",
       "    }\n",
       "\n",
       "    .dataframe thead th {\n",
       "        text-align: right;\n",
       "    }\n",
       "</style>\n",
       "<table border=\"1\" class=\"dataframe\">\n",
       "  <thead>\n",
       "    <tr style=\"text-align: right;\">\n",
       "      <th></th>\n",
       "      <th>hour</th>\n",
       "      <th>num_worms</th>\n",
       "    </tr>\n",
       "  </thead>\n",
       "  <tbody>\n",
       "    <tr>\n",
       "      <th>0</th>\n",
       "      <td>0</td>\n",
       "      <td>147</td>\n",
       "    </tr>\n",
       "    <tr>\n",
       "      <th>1</th>\n",
       "      <td>1</td>\n",
       "      <td>170</td>\n",
       "    </tr>\n",
       "    <tr>\n",
       "      <th>2</th>\n",
       "      <td>2</td>\n",
       "      <td>172</td>\n",
       "    </tr>\n",
       "    <tr>\n",
       "      <th>3</th>\n",
       "      <td>3</td>\n",
       "      <td>130</td>\n",
       "    </tr>\n",
       "    <tr>\n",
       "      <th>4</th>\n",
       "      <td>4</td>\n",
       "      <td>141</td>\n",
       "    </tr>\n",
       "  </tbody>\n",
       "</table>\n",
       "</div>"
      ],
      "text/plain": [
       "   hour  num_worms\n",
       "0     0        147\n",
       "1     1        170\n",
       "2     2        172\n",
       "3     3        130\n",
       "4     4        141"
      ]
     },
     "execution_count": 116,
     "metadata": {},
     "output_type": "execute_result"
    }
   ],
   "source": [
    "worms_per_hour = worms_detected_count.resample('h', on='date_time').sum()\n",
    "\n",
    "# Group by hour of the day and sum the number of worms detected\n",
    "worms_per_hour['hour'] = worms_per_hour.index.hour\n",
    "total_count_per_hour = worms_per_hour.groupby('hour')['num_worms'].sum().reset_index()\n",
    "\n",
    "total_count_per_hour.head()"
   ]
  },
  {
   "cell_type": "code",
   "execution_count": 117,
   "metadata": {},
   "outputs": [
    {
     "data": {
      "image/png": "[encoded data removed]",
      "text/plain": [
       "<Figure size 640x480 with 1 Axes>"
      ]
     },
     "metadata": {},
     "output_type": "display_data"
    }
   ],
   "source": [
    "total_count_per_hour.plot(x='hour', y='num_worms', kind='bar', title='Total Number of Worms Detected per Hour')\n",
    "plt.xlabel('Hour of the Day')\n",
    "plt.ylabel('Total Number of Worms')\n",
    "plt.show()"
   ]
  }
 ],
 "metadata": {
  "kernelspec": {
   "display_name": ".venv",
   "language": "python",
   "name": "python3"
  },
  "language_info": {
   "codemirror_mode": {
    "name": "ipython",
    "version": 3
   },
   "file_extension": ".py",
   "mimetype": "text/x-python",
   "name": "python",
   "nbconvert_exporter": "python",
   "pygments_lexer": "ipython3",
   "version": "3.11.6"
  }
 },
 "nbformat": 4,
 "nbformat_minor": 2
}
